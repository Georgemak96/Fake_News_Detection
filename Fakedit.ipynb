{
 "cells": [
  {
   "cell_type": "code",
   "execution_count": 3,
   "metadata": {},
   "outputs": [],
   "source": [
    "import os\n",
    "import pandas as pd\n",
    "import tensorflow as tf\n",
    "import tensorflow_hub as hub\n",
    "import tensorflow_text as text\n",
    "import numpy as np\n",
    "import matplotlib.pyplot as plt\n",
    "from tensorflow.keras import mixed_precision\n",
    "from sklearn.metrics import confusion_matrix, classification_report \n",
    "from transformers import TFGPT2LMHeadModel, GPT2Tokenizer, TFGPT2Model\n",
    "\n",
    "\n",
    "os.chdir('C:/Users/makri/OneDrive/Documents/GitHub/Deep_Learning_Final_Project')\n",
    "\n",
    "data_train = pd.read_csv('multimodal_train.tsv', sep='\\t')\n",
    "data_test = pd.read_csv('multimodal_test_public.tsv', sep='\\t')\n",
    "data_validate = pd.read_csv('multimodal_validate.tsv', sep='\\t')"
   ]
  },
  {
   "cell_type": "code",
   "execution_count": 2,
   "metadata": {},
   "outputs": [],
   "source": [
    "BATCH_SIZE = 32\n",
    "SEED = 42\n",
    "# Training data\n",
    "X_train = data_train['clean_title'].values  \n",
    "y_train = data_train['2_way_label'].values \n",
    "\n",
    "# Validation data\n",
    "X_val = data_validate['clean_title'].values\n",
    "y_val = data_validate['2_way_label'].values\n",
    "\n",
    "train_ds = tf.data.Dataset.from_tensor_slices((X_train,y_train)).shuffle(buffer_size=len(X_train),seed=SEED, reshuffle_each_iteration=False).batch(BATCH_SIZE).cache().prefetch(tf.data.AUTOTUNE)\n",
    "val_ds = tf.data.Dataset.from_tensor_slices((X_val,y_val)).batch(BATCH_SIZE).cache().prefetch(tf.data.AUTOTUNE)\n"
   ]
  },
  {
   "cell_type": "code",
   "execution_count": 4,
   "metadata": {},
   "outputs": [
    {
     "name": "stdout",
     "output_type": "stream",
     "text": [
      "Memory growth enabled for PhysicalDevice(name='/physical_device:GPU:0', device_type='GPU')\n"
     ]
    }
   ],
   "source": [
    "gpus = tf.config.experimental.list_physical_devices('GPU')\n",
    "\n",
    "if gpus:\n",
    "    try:\n",
    "        # Enable memory growth for the first (and only) GPU\n",
    "        tf.config.experimental.set_memory_growth(gpus[0], True)\n",
    "        print(f\"Memory growth enabled for {gpus[0]}\")\n",
    "    except RuntimeError as e:\n",
    "        print(e)  # This happens if GPUs are initialized before setting memory growth\n",
    "else:\n",
    "    print(\"No GPU found. Running on CPU.\")"
   ]
  },
  {
   "cell_type": "code",
   "execution_count": null,
   "metadata": {},
   "outputs": [
    {
     "name": "stdout",
     "output_type": "stream",
     "text": [
      "Model: \"model_1\"\n",
      "__________________________________________________________________________________________________\n",
      " Layer (type)                   Output Shape         Param #     Connected to                     \n",
      "==================================================================================================\n",
      " input_2 (InputLayer)           [(None,)]            0           []                               \n",
      "                                                                                                  \n",
      " BERT_preprocessor (KerasLayer)  {'input_type_ids':   0          ['input_2[0][0]']                \n",
      "                                (None, 128),                                                      \n",
      "                                 'input_word_ids':                                                \n",
      "                                (None, 128),                                                      \n",
      "                                 'input_mask': (Non                                               \n",
      "                                e, 128)}                                                          \n",
      "                                                                                                  \n",
      " BERT_encoder (KerasLayer)      {'default': (None,   4385921     ['BERT_preprocessor[0][0]',      \n",
      "                                128),                             'BERT_preprocessor[0][1]',      \n",
      "                                 'sequence_output':               'BERT_preprocessor[0][2]']      \n",
      "                                 (None, 128, 128),                                                \n",
      "                                 'encoder_outputs':                                               \n",
      "                                 [(None, 128, 128),                                               \n",
      "                                 (None, 128, 128)],                                               \n",
      "                                 'pooled_output': (                                               \n",
      "                                None, 128)}                                                       \n",
      "                                                                                                  \n",
      " dropout_1 (Dropout)            (None, 128)          0           ['BERT_encoder[0][3]']           \n",
      "                                                                                                  \n",
      " dense_1 (Dense)                (None, 1)            129         ['dropout_1[0][0]']              \n",
      "                                                                                                  \n",
      "==================================================================================================\n",
      "Total params: 4,386,050\n",
      "Trainable params: 4,386,049\n",
      "Non-trainable params: 1\n",
      "__________________________________________________________________________________________________\n"
     ]
    }
   ],
   "source": [
    "mixed_precision.set_global_policy('mixed_float16')\n",
    "\n",
    "\n",
    "# Defining Bert Model\n",
    "bert_model = 'https://tfhub.dev/tensorflow/small_bert/bert_en_uncased_L-2_H-128_A-2/1'\n",
    "bert_preprocessing_layer = 'https://tfhub.dev/tensorflow/bert_en_uncased_preprocess/2'\n",
    "preprocessor = hub.KerasLayer(bert_preprocessing_layer, name = 'BERT_preprocessor')\n",
    "encoder = hub.KerasLayer(bert_model, trainable=True, name = 'BERT_encoder')\n",
    "\n",
    "# Building network\n",
    "input = tf.keras.layers.Input(shape=(), dtype=tf.string)\n",
    "processed_text = preprocessor(input)\n",
    "output = encoder(processed_text)\n",
    "cls_tokens = output['pooled_output']\n",
    "# Add dropout\n",
    "x = tf.keras.layers.Dropout(0.2)(cls_tokens)\n",
    "# Add linear transformation\n",
    "x = tf.keras.layers.Dense(1, dtype='float32')(x)\n",
    "model = tf.keras.models.Model(input,x)\n",
    "\n",
    "model.summary()\n",
    "\n",
    "\n",
    "\n"
   ]
  },
  {
   "cell_type": "code",
   "execution_count": 10,
   "metadata": {},
   "outputs": [],
   "source": [
    "model.compile(loss=tf.keras.losses.BinaryCrossentropy(from_logits=True), optimizer = tf.keras.optimizers.Adam(learning_rate=5e-5),\n",
    "              metrics=['accuracy'])"
   ]
  },
  {
   "cell_type": "code",
   "execution_count": 11,
   "metadata": {},
   "outputs": [
    {
     "name": "stdout",
     "output_type": "stream",
     "text": [
      "Epoch 1/3\n"
     ]
    },
    {
     "name": "stderr",
     "output_type": "stream",
     "text": [
      "c:\\Users\\makri\\.conda\\envs\\tf\\lib\\site-packages\\tensorflow\\python\\framework\\indexed_slices.py:444: UserWarning: Converting sparse IndexedSlices(IndexedSlices(indices=Tensor(\"Adam/gradients/StatefulPartitionedCall:1\", shape=(None,), dtype=int32), values=Tensor(\"mul_2:0\", dtype=float32), dense_shape=Tensor(\"Adam/gradients/StatefulPartitionedCall:2\", shape=(None,), dtype=int32))) to a dense Tensor of unknown shape. This may consume a large amount of memory.\n",
      "  warnings.warn(\n"
     ]
    },
    {
     "name": "stdout",
     "output_type": "stream",
     "text": [
      "17625/17625 [==============================] - 964s 55ms/step - loss: 0.3843 - accuracy: 0.8201 - val_loss: 0.3314 - val_accuracy: 0.8598\n",
      "Epoch 2/3\n",
      "17625/17625 [==============================] - 967s 55ms/step - loss: 0.3224 - accuracy: 0.8566 - val_loss: 0.3195 - val_accuracy: 0.8650\n",
      "Epoch 3/3\n",
      "17625/17625 [==============================] - 1078s 61ms/step - loss: 0.2960 - accuracy: 0.8711 - val_loss: 0.3207 - val_accuracy: 0.8688\n"
     ]
    }
   ],
   "source": [
    "# Training\n",
    "\n",
    "history = model.fit(train_ds, epochs=3, validation_data=val_ds)"
   ]
  },
  {
   "cell_type": "code",
   "execution_count": 12,
   "metadata": {},
   "outputs": [
    {
     "data": {
      "image/png": "[encoded data removed]",
      "text/plain": [
       "<Figure size 700x700 with 1 Axes>"
      ]
     },
     "metadata": {},
     "output_type": "display_data"
    },
    {
     "data": {
      "image/png": "[encoded data removed]",
      "text/plain": [
       "<Figure size 640x480 with 1 Axes>"
      ]
     },
     "metadata": {},
     "output_type": "display_data"
    }
   ],
   "source": [
    "plt.figure(figsize=(7,7))\n",
    "plt.subplot(1,2,1)\n",
    "plt.plot(history.history['accuracy'], label='Training Accuracy')\n",
    "plt.plot(history.history['val_accuracy'], label = 'Validation Accuracy')\n",
    "plt.legend()\n",
    "plt.show()\n",
    "\n",
    "plt.subplot(1,2,2)\n",
    "plt.plot(history.history['loss'], label='Training Loss')\n",
    "plt.plot(history.history['val_loss'], label = 'Validation Loss')\n",
    "plt.legend()\n",
    "plt.show()\n",
    "\n",
    "\n"
   ]
  },
  {
   "cell_type": "code",
   "execution_count": 6,
   "metadata": {},
   "outputs": [],
   "source": [
    "saved_model_path = './my_model'\n",
    "#model.save(saved_model_path, include_optimizer=False)"
   ]
  },
  {
   "cell_type": "code",
   "execution_count": 14,
   "metadata": {},
   "outputs": [
    {
     "name": "stdout",
     "output_type": "stream",
     "text": [
      "1854/1854 [==============================] - 81s 44ms/step - loss: 0.3195 - accuracy: 0.8696\n"
     ]
    }
   ],
   "source": [
    "# Test data\n",
    "X_test = data_test['clean_title'].values\n",
    "y_test = data_test['2_way_label'].values\n",
    "\n",
    "loss, accuracy = model.evaluate(X_test, y_test)"
   ]
  },
  {
   "cell_type": "markdown",
   "metadata": {},
   "source": [
    "## Reloaded Model ##"
   ]
  },
  {
   "cell_type": "code",
   "execution_count": 19,
   "metadata": {},
   "outputs": [
    {
     "name": "stdout",
     "output_type": "stream",
     "text": [
      "WARNING:tensorflow:No training configuration found in save file, so the model was *not* compiled. Compile it manually.\n"
     ]
    }
   ],
   "source": [
    "reloaded_model = tf.keras.models.load_model(saved_model_path)\n",
    "\n",
    "reloaded_model.compile(loss=tf.keras.losses.BinaryCrossentropy(from_logits=True), optimizer = tf.keras.optimizers.Adam(learning_rate=5e-5),\n",
    "              metrics=['accuracy'])\n"
   ]
  },
  {
   "cell_type": "code",
   "execution_count": 22,
   "metadata": {},
   "outputs": [
    {
     "name": "stdout",
     "output_type": "stream",
     "text": [
      "1854/1854 [==============================] - 78s 42ms/step\n"
     ]
    }
   ],
   "source": [
    "# Test data\n",
    "X_test = data_test['clean_title'].values\n",
    "y_test = data_test['2_way_label'].values\n",
    "\n",
    "predictions = reloaded_model.predict(X_test)"
   ]
  },
  {
   "cell_type": "code",
   "execution_count": 63,
   "metadata": {},
   "outputs": [
    {
     "name": "stdout",
     "output_type": "stream",
     "text": [
      "              precision    recall  f1-score   support\n",
      "\n",
      "        Fake       0.91      0.88      0.89     36766\n",
      "        Real       0.82      0.85      0.83     22553\n",
      "\n",
      "    accuracy                           0.87     59319\n",
      "   macro avg       0.86      0.87      0.86     59319\n",
      "weighted avg       0.87      0.87      0.87     59319\n",
      "\n"
     ]
    }
   ],
   "source": [
    "threshold = 0.5\n",
    "preds = (predictions>threshold).astype(int)\n",
    "\n",
    "print(classification_report(preds,y_test, target_names = ['Fake','Real']))"
   ]
  },
  {
   "cell_type": "code",
   "execution_count": 76,
   "metadata": {},
   "outputs": [
    {
     "name": "stdout",
     "output_type": "stream",
     "text": [
      "tf.Tensor([[0.05379667]], shape=(1, 1), dtype=float32)\n"
     ]
    }
   ],
   "source": [
    "news_examples = [\n",
    "    \"You either have XX or XY chromosomes. Those are the options.\" \n",
    "]\n",
    "\n",
    "\n",
    "\n",
    "\n",
    "results = tf.sigmoid(reloaded_model(tf.constant(news_examples)))\n",
    "print(results)\n",
    "\n",
    "#print(['FAKE'if results>threshold else 'REAL'])"
   ]
  },
  {
   "cell_type": "markdown",
   "metadata": {},
   "source": [
    "## Larger BERT ##\n"
   ]
  },
  {
   "cell_type": "code",
   "execution_count": 4,
   "metadata": {},
   "outputs": [
    {
     "name": "stdout",
     "output_type": "stream",
     "text": [
      "INFO:tensorflow:Mixed precision compatibility check (mixed_float16): OK\n",
      "Your GPU will likely run quickly with dtype policy mixed_float16 as it has compute capability of at least 7.0. Your GPU: NVIDIA GeForce RTX 4050 Laptop GPU, compute capability 8.9\n",
      "Model: \"model\"\n",
      "__________________________________________________________________________________________________\n",
      " Layer (type)                   Output Shape         Param #     Connected to                     \n",
      "==================================================================================================\n",
      " input_1 (InputLayer)           [(None,)]            0           []                               \n",
      "                                                                                                  \n",
      " BERT_preprocessor (KerasLayer)  {'input_mask': (Non  0          ['input_1[0][0]']                \n",
      "                                e, 128),                                                          \n",
      "                                 'input_type_ids':                                                \n",
      "                                (None, 128),                                                      \n",
      "                                 'input_word_ids':                                                \n",
      "                                (None, 128)}                                                      \n",
      "                                                                                                  \n",
      " BERT_encoder (KerasLayer)      {'pooled_output': (  11170561    ['BERT_preprocessor[0][0]',      \n",
      "                                None, 256),                       'BERT_preprocessor[0][1]',      \n",
      "                                 'encoder_outputs':               'BERT_preprocessor[0][2]']      \n",
      "                                 [(None, 128, 256),                                               \n",
      "                                 (None, 128, 256),                                                \n",
      "                                 (None, 128, 256),                                                \n",
      "                                 (None, 128, 256)],                                               \n",
      "                                 'sequence_output':                                               \n",
      "                                 (None, 128, 256),                                                \n",
      "                                 'default': (None,                                                \n",
      "                                256)}                                                             \n",
      "                                                                                                  \n",
      " dropout (Dropout)              (None, 256)          0           ['BERT_encoder[0][5]']           \n",
      "                                                                                                  \n",
      " dense (Dense)                  (None, 1)            257         ['dropout[0][0]']                \n",
      "                                                                                                  \n",
      "==================================================================================================\n",
      "Total params: 11,170,818\n",
      "Trainable params: 11,170,817\n",
      "Non-trainable params: 1\n",
      "__________________________________________________________________________________________________\n"
     ]
    }
   ],
   "source": [
    "mixed_precision.set_global_policy('mixed_float16')\n",
    "\n",
    "\n",
    "# Defining Bert Model\n",
    "bert_model = 'https://tfhub.dev/tensorflow/small_bert/bert_en_uncased_L-4_H-256_A-4/1'\n",
    "bert_preprocessing_layer = 'https://tfhub.dev/tensorflow/bert_en_uncased_preprocess/2'\n",
    "preprocessor = hub.KerasLayer(bert_preprocessing_layer, name = 'BERT_preprocessor')\n",
    "encoder = hub.KerasLayer(bert_model, trainable=True, name = 'BERT_encoder')\n",
    "\n",
    "# Building network\n",
    "input = tf.keras.layers.Input(shape=(), dtype=tf.string)\n",
    "processed_text = preprocessor(input)\n",
    "output = encoder(processed_text)\n",
    "cls_tokens = output['pooled_output']\n",
    "# Add dropout\n",
    "x = tf.keras.layers.Dropout(0.1)(cls_tokens)\n",
    "# Add Dense Layers \n",
    "# x = tf.keras.layers.Dense(1500, activation='relu',dtype='float32')(x)\n",
    "# x = tf.keras.layers.Dropout(0.1)(cls_tokens)\n",
    "# x = tf.keras.layers.Dense(100, activation='relu',dtype='float32')(x)\n",
    "# Linear Transformation\n",
    "x = tf.keras.layers.Dense(1, dtype='float32')(x)\n",
    "\n",
    "model_2 = tf.keras.models.Model(input,x)\n",
    "\n",
    "model_2.summary()"
   ]
  },
  {
   "cell_type": "code",
   "execution_count": 5,
   "metadata": {},
   "outputs": [],
   "source": [
    "model_2.compile(loss=tf.keras.losses.BinaryCrossentropy(from_logits=True), optimizer = tf.keras.optimizers.Adam(learning_rate=5e-5),\n",
    "              metrics=['accuracy'])"
   ]
  },
  {
   "cell_type": "code",
   "execution_count": 6,
   "metadata": {},
   "outputs": [],
   "source": [
    "BATCH_SIZE = 32\n",
    "SEED = 42\n",
    "\n",
    "# Sample training data\n",
    "sample_x_train = X_train[-20000:]\n",
    "sample_y_train = y_train[-20000:]\n",
    "\n",
    "# Sample validation data\n",
    "sample_x_val= X_val[-20000:]\n",
    "sample_y_val = y_val[-20000:]\n",
    "\n",
    "train_ds = tf.data.Dataset.from_tensor_slices((sample_x_train,sample_y_train)).shuffle(buffer_size=len(sample_x_train),seed=SEED, reshuffle_each_iteration=False).batch(BATCH_SIZE).cache().prefetch(tf.data.AUTOTUNE)\n",
    "val_ds = tf.data.Dataset.from_tensor_slices((sample_x_val,sample_y_val)).batch(BATCH_SIZE).cache().prefetch(tf.data.AUTOTUNE)"
   ]
  },
  {
   "cell_type": "code",
   "execution_count": 6,
   "metadata": {},
   "outputs": [
    {
     "name": "stdout",
     "output_type": "stream",
     "text": [
      "Epoch 1/3\n"
     ]
    },
    {
     "name": "stderr",
     "output_type": "stream",
     "text": [
      "c:\\Users\\makri\\.conda\\envs\\tf\\lib\\site-packages\\tensorflow\\python\\framework\\indexed_slices.py:444: UserWarning: Converting sparse IndexedSlices(IndexedSlices(indices=Tensor(\"Adam/gradients/StatefulPartitionedCall:1\", shape=(None,), dtype=int32), values=Tensor(\"mul_2:0\", dtype=float32), dense_shape=Tensor(\"Adam/gradients/StatefulPartitionedCall:2\", shape=(None,), dtype=int32))) to a dense Tensor of unknown shape. This may consume a large amount of memory.\n",
      "  warnings.warn(\n"
     ]
    },
    {
     "name": "stdout",
     "output_type": "stream",
     "text": [
      "17625/17625 [==============================] - 1653s 93ms/step - loss: 0.3492 - accuracy: 0.8413 - val_loss: 0.3161 - val_accuracy: 0.8693\n",
      "Epoch 2/3\n",
      "17625/17625 [==============================] - 1656s 94ms/step - loss: 0.2904 - accuracy: 0.8740 - val_loss: 0.3136 - val_accuracy: 0.8734\n",
      "Epoch 3/3\n",
      "17625/17625 [==============================] - 1837s 104ms/step - loss: 0.2568 - accuracy: 0.8916 - val_loss: 0.3165 - val_accuracy: 0.8742\n"
     ]
    }
   ],
   "source": [
    "# Training Model 2 (Deeper Bert)\n",
    "tf.keras.backend.clear_session()\n",
    "history_2 = model_2.fit(train_ds, epochs=3, validation_data=val_ds)"
   ]
  },
  {
   "cell_type": "code",
   "execution_count": null,
   "metadata": {},
   "outputs": [
    {
     "name": "stderr",
     "output_type": "stream",
     "text": [
      "WARNING:absl:Found untraced functions such as restored_function_body, restored_function_body, restored_function_body, restored_function_body, restored_function_body while saving (showing 5 of 124). These functions will not be directly callable after loading.\n"
     ]
    },
    {
     "name": "stdout",
     "output_type": "stream",
     "text": [
      "INFO:tensorflow:Assets written to: ./my_model_2\\assets\n"
     ]
    },
    {
     "name": "stderr",
     "output_type": "stream",
     "text": [
      "INFO:tensorflow:Assets written to: ./my_model_2\\assets\n"
     ]
    }
   ],
   "source": [
    "# Saving second model\n",
    "saved_model_path = './my_model_2'\n",
    "#model_2.save(saved_model_path, include_optimizer=False)"
   ]
  },
  {
   "cell_type": "code",
   "execution_count": null,
   "metadata": {},
   "outputs": [
    {
     "name": "stdout",
     "output_type": "stream",
     "text": [
      "1854/1854 [==============================] - 88s 47ms/step - loss: 0.3137 - accuracy: 0.8727\n"
     ]
    }
   ],
   "source": [
    "# Testing second model \n",
    "X_test = data_test['clean_title'].values\n",
    "y_test = data_test['2_way_label'].values\n",
    "\n",
    "loss, accuracy = model_2.evaluate(X_test, y_test)"
   ]
  },
  {
   "cell_type": "code",
   "execution_count": 9,
   "metadata": {},
   "outputs": [
    {
     "data": {
      "image/png": "[encoded data removed]",
      "text/plain": [
       "<Figure size 700x700 with 1 Axes>"
      ]
     },
     "metadata": {},
     "output_type": "display_data"
    },
    {
     "data": {
      "image/png": "[encoded data removed]",
      "text/plain": [
       "<Figure size 640x480 with 1 Axes>"
      ]
     },
     "metadata": {},
     "output_type": "display_data"
    }
   ],
   "source": [
    "plt.figure(figsize=(7,7))\n",
    "plt.subplot(1,2,1)\n",
    "plt.plot(history_2.history['accuracy'], label='Training Accuracy')\n",
    "plt.plot(history_2.history['val_accuracy'], label = 'Validation Accuracy')\n",
    "plt.legend()\n",
    "plt.show()\n",
    "\n",
    "plt.subplot(1,2,2)\n",
    "plt.plot(history_2.history['loss'], label='Training Loss')\n",
    "plt.plot(history_2.history['val_loss'], label = 'Validation Loss')\n",
    "plt.legend()\n",
    "plt.show()\n",
    "\n"
   ]
  },
  {
   "cell_type": "code",
   "execution_count": 32,
   "metadata": {},
   "outputs": [
    {
     "name": "stdout",
     "output_type": "stream",
     "text": [
      "tf.Tensor([[0.9890604]], shape=(1, 1), dtype=float32)\n"
     ]
    }
   ],
   "source": [
    "examples = [\"Kilmar Armado Abrego-Garcia “was a convicted MS-13 gang member.\"]\n",
    "\n",
    "\n",
    "results = tf.sigmoid(model_2(tf.constant(examples)))\n",
    "print(results)\n"
   ]
  },
  {
   "cell_type": "code",
   "execution_count": 34,
   "metadata": {},
   "outputs": [
    {
     "name": "stdout",
     "output_type": "stream",
     "text": [
      "1854/1854 [==============================] - 85s 46ms/step\n"
     ]
    }
   ],
   "source": [
    "predictions = model_2.predict(X_test)"
   ]
  },
  {
   "cell_type": "code",
   "execution_count": 35,
   "metadata": {},
   "outputs": [
    {
     "name": "stdout",
     "output_type": "stream",
     "text": [
      "              precision    recall  f1-score   support\n",
      "\n",
      "        Fake       0.91      0.88      0.90     37254\n",
      "        Real       0.81      0.86      0.83     22065\n",
      "\n",
      "    accuracy                           0.87     59319\n",
      "   macro avg       0.86      0.87      0.87     59319\n",
      "weighted avg       0.88      0.87      0.87     59319\n",
      "\n"
     ]
    }
   ],
   "source": [
    "threshold = 0.5\n",
    "preds = (predictions>threshold).astype(int)\n",
    "\n",
    "print(classification_report(preds,y_test, target_names = ['Fake','Real']))"
   ]
  },
  {
   "cell_type": "markdown",
   "metadata": {},
   "source": [
    "## FINE-TUNING GPT2 ##\n",
    "\n",
    "The following code fine tunes GPT2. It uses the TFGPT2Model from hugging face. This, in contrast with TFGPT2LMHeadModel, does not include the final linear-plus-softmax layer and so it only outputs the hidden states and can be used for any downstream task (like, for example, classification). More specifically, in my case I am going to use the last token (since it is a substitute for lets say the CLS token in BERT although not the same) with the logic that by then the model has seen all the sentence and I am going to use this into a classification layer."
   ]
  },
  {
   "cell_type": "code",
   "execution_count": 5,
   "metadata": {},
   "outputs": [],
   "source": [
    "BATCH_SIZE = 16\n",
    "SEED = 42\n",
    "# Training data\n",
    "X_train = data_train['clean_title'].values\n",
    "y_train = data_train['2_way_label'].values\n",
    "\n",
    "X_val = data_validate['clean_title'].values\n",
    "y_val = data_validate['2_way_label'].values\n"
   ]
  },
  {
   "cell_type": "code",
   "execution_count": 6,
   "metadata": {},
   "outputs": [
    {
     "name": "stderr",
     "output_type": "stream",
     "text": [
      "c:\\Users\\makri\\.conda\\envs\\tf\\lib\\site-packages\\huggingface_hub\\file_download.py:797: FutureWarning: `resume_download` is deprecated and will be removed in version 1.0.0. Downloads always resume when possible. If you want to force a new download, use `force_download=True`.\n",
      "  warnings.warn(\n",
      "All PyTorch model weights were used when initializing TFGPT2Model.\n",
      "\n",
      "All the weights of TFGPT2Model were initialized from the PyTorch model.\n",
      "If your task is similar to the task the model of the checkpoint was trained on, you can already use TFGPT2Model for predictions without further training.\n"
     ]
    }
   ],
   "source": [
    "model_name = 'gpt2'\n",
    "tokenizer = GPT2Tokenizer.from_pretrained(model_name)\n",
    "gpt2 = TFGPT2Model.from_pretrained(model_name)\n",
    "\n",
    "tokenizer.pad_token = tokenizer.eos_token\n",
    "gpt2.config.pad_token_id = tokenizer.eos_token_id\n",
    "gpt2.config.use_cache = False  "
   ]
  },
  {
   "cell_type": "code",
   "execution_count": 7,
   "metadata": {},
   "outputs": [],
   "source": [
    "train_encodings = tokenizer(list(X_train), truncation=True, padding='max_length', max_length=30, return_tensors=\"tf\")\n",
    "\n",
    "val_encodings = tokenizer(\n",
    "    list(X_val),\n",
    "    truncation=True,\n",
    "    padding='max_length',\n",
    "    max_length=30,\n",
    "    return_tensors=\"tf\"\n",
    ")\n"
   ]
  },
  {
   "cell_type": "code",
   "execution_count": 6,
   "metadata": {},
   "outputs": [],
   "source": [
    "# Prepare dataset\n",
    "inputs = {\n",
    "    'input_ids': train_encodings['input_ids'],\n",
    "    'attention_mask': train_encodings['attention_mask']\n",
    "}\n",
    "labels = tf.cast(y_train, tf.float32)\n",
    "\n",
    "\n",
    "val_inputs = {\n",
    "    'input_ids': val_encodings['input_ids'],\n",
    "    'attention_mask': val_encodings['attention_mask']\n",
    "}\n",
    "val_labels = tf.cast(y_val, tf.float32)\n",
    "\n",
    "# Now build dataset properly\n",
    "train_ds = tf.data.Dataset.from_tensor_slices((inputs,  labels)).shuffle(buffer_size=len(X_train),seed=SEED, reshuffle_each_iteration=False).batch(BATCH_SIZE).cache().prefetch(tf.data.AUTOTUNE)\n",
    "val_ds = tf.data.Dataset.from_tensor_slices((val_inputs, val_labels))\\\n",
    "         .batch(BATCH_SIZE)\\\n",
    "         .prefetch(tf.data.AUTOTUNE)"
   ]
  },
  {
   "cell_type": "code",
   "execution_count": null,
   "metadata": {},
   "outputs": [
    {
     "name": "stdout",
     "output_type": "stream",
     "text": [
      "INFO:tensorflow:Mixed precision compatibility check (mixed_float16): OK\n",
      "Your GPU will likely run quickly with dtype policy mixed_float16 as it has compute capability of at least 7.0. Your GPU: NVIDIA GeForce RTX 4050 Laptop GPU, compute capability 8.9\n",
      "Model: \"model\"\n",
      "__________________________________________________________________________________________________\n",
      " Layer (type)                   Output Shape         Param #     Connected to                     \n",
      "==================================================================================================\n",
      " attention_mask (InputLayer)    [(None, None)]       0           []                               \n",
      "                                                                                                  \n",
      " input_ids (InputLayer)         [(None, None)]       0           []                               \n",
      "                                                                                                  \n",
      " tf.expand_dims (TFOpLambda)    (None, None, 1)      0           ['attention_mask[0][0]']         \n",
      "                                                                                                  \n",
      " tfgpt2_model (TFGPT2Model)     TFBaseModelOutputWi  124439808   ['attention_mask[0][0]',         \n",
      "                                thPastAndCrossAtten               'input_ids[0][0]']              \n",
      "                                tions(last_hidden_s                                               \n",
      "                                tate=(None, None, 7                                               \n",
      "                                68),                                                              \n",
      "                                 past_key_values=No                                               \n",
      "                                ne, hidden_states=N                                               \n",
      "                                one, attentions=Non                                               \n",
      "                                e, cross_attentions                                               \n",
      "                                =None)                                                            \n",
      "                                                                                                  \n",
      " tf.cast (TFOpLambda)           (None, None, 1)      0           ['tf.expand_dims[0][0]']         \n",
      "                                                                                                  \n",
      " tf.math.multiply (TFOpLambda)  (None, None, 768)    0           ['tfgpt2_model[0][0]',           \n",
      "                                                                  'tf.cast[0][0]']                \n",
      "                                                                                                  \n",
      " tf.math.reduce_sum_1 (TFOpLamb  (None, 1)           0           ['tf.cast[0][0]']                \n",
      " da)                                                                                              \n",
      "                                                                                                  \n",
      " tf.math.reduce_sum (TFOpLambda  (None, 768)         0           ['tf.math.multiply[0][0]']       \n",
      " )                                                                                                \n",
      "                                                                                                  \n",
      " tf.math.maximum (TFOpLambda)   (None, 1)            0           ['tf.math.reduce_sum_1[0][0]']   \n",
      "                                                                                                  \n",
      " tf.__operators__.getitem (Slic  (None, 768)         0           ['tfgpt2_model[0][0]']           \n",
      " ingOpLambda)                                                                                     \n",
      "                                                                                                  \n",
      " tf.math.truediv (TFOpLambda)   (None, 768)          0           ['tf.math.reduce_sum[0][0]',     \n",
      "                                                                  'tf.math.maximum[0][0]']        \n",
      "                                                                                                  \n",
      " tf.concat (TFOpLambda)         (None, 1536)         0           ['tf.__operators__.getitem[0][0]'\n",
      "                                                                 , 'tf.math.truediv[0][0]']       \n",
      "                                                                                                  \n",
      " dense (Dense)                  (None, 1)            1537        ['tf.concat[0][0]']              \n",
      "                                                                                                  \n",
      "==================================================================================================\n",
      "Total params: 124,441,345\n",
      "Trainable params: 124,441,345\n",
      "Non-trainable params: 0\n",
      "__________________________________________________________________________________________________\n"
     ]
    }
   ],
   "source": [
    "# Build Model\n",
    "mixed_precision.set_global_policy('mixed_float16')\n",
    "\n",
    "# Input layers\n",
    "input_ids = tf.keras.layers.Input(shape=(None,), dtype=tf.int32, name=\"input_ids\")\n",
    "attention_mask = tf.keras.layers.Input(shape=(None,), dtype=tf.int32, name=\"attention_mask\")\n",
    "\n",
    "# Extract last hidden state \n",
    "gpt2_outputs = gpt2({'input_ids': input_ids, 'attention_mask': attention_mask})\n",
    "last_hidden = gpt2_outputs.last_hidden_state # Dim : [batch_size,seq_lenth,hidden_size]\n",
    "\n",
    "# Extracat last token last_hidden_state (\"cls\" token)\n",
    "cls_token = last_hidden[:, -1, :]\n",
    "\n",
    "\n",
    "# Mean pooling\n",
    "mask = tf.cast(tf.expand_dims(attention_mask, axis=-1), dtype=tf.float32) # Dim : [batch_size,seq_lenth,1]\n",
    "masked_hidden = last_hidden * mask # Dim : [batch_size,seq_lenth,hidden_size]\n",
    "sum_hidden = tf.reduce_sum(masked_hidden, axis=1) # Sum of non-masked embeddings\n",
    "token_counts = tf.reduce_sum(mask, axis=1) #Sum of non-padded tokens\n",
    "mean_hidden = sum_hidden / tf.maximum(token_counts, 1e-9)\n",
    "\n",
    "# Combine both\n",
    "combined = tf.concat([cls_token, mean_hidden], axis=1)  # shape: (batch, hidden_size * 2)\n",
    "\n",
    "# Classification layer\n",
    "preds = tf.keras.layers.Dense(1, activation=\"sigmoid\", dtype=\"float32\")(combined)\n",
    "\n",
    "# Final Model\n",
    "model = tf.keras.models.Model(inputs=[input_ids, attention_mask], outputs=preds)\n",
    "\n",
    "model.summary()\n",
    "\n"
   ]
  },
  {
   "cell_type": "code",
   "execution_count": 8,
   "metadata": {},
   "outputs": [],
   "source": [
    "tf.keras.backend.clear_session(\n",
    ")\n"
   ]
  },
  {
   "cell_type": "code",
   "execution_count": 9,
   "metadata": {},
   "outputs": [],
   "source": [
    "model.compile(loss = tf.keras.losses.BinaryCrossentropy(), optimizer = tf.keras.optimizers.Adam(5e-5), metrics = ['accuracy'])"
   ]
  },
  {
   "cell_type": "code",
   "execution_count": 10,
   "metadata": {},
   "outputs": [
    {
     "name": "stdout",
     "output_type": "stream",
     "text": [
      "Epoch 1/3\n",
      "35250/35250 [==============================] - 4283s 121ms/step - loss: 0.3309 - accuracy: 0.8579 - val_loss: 0.3065 - val_accuracy: 0.8714\n",
      "Epoch 2/3\n",
      "35250/35250 [==============================] - 4270s 121ms/step - loss: 0.2630 - accuracy: 0.8920 - val_loss: 0.3041 - val_accuracy: 0.8786\n",
      "Epoch 3/3\n",
      "35250/35250 [==============================] - 4254s 121ms/step - loss: 0.2146 - accuracy: 0.9142 - val_loss: 0.3310 - val_accuracy: 0.8753\n"
     ]
    }
   ],
   "source": [
    "history = model.fit(train_ds, validation_data=val_ds, epochs=3)\n"
   ]
  },
  {
   "cell_type": "code",
   "execution_count": 11,
   "metadata": {},
   "outputs": [
    {
     "name": "stdout",
     "output_type": "stream",
     "text": [
      "1854/1854 [==============================] - 72s 38ms/step\n",
      "              precision    recall  f1-score   support\n",
      "\n",
      "        Fake       0.89      0.90      0.90     35408\n",
      "        Real       0.85      0.84      0.85     23911\n",
      "\n",
      "    accuracy                           0.88     59319\n",
      "   macro avg       0.87      0.87      0.87     59319\n",
      "weighted avg       0.88      0.88      0.88     59319\n",
      "\n"
     ]
    }
   ],
   "source": [
    "\n",
    "X_test = data_test['clean_title'].values\n",
    "y_test = data_test['2_way_label'].values\n",
    "\n",
    "\n",
    "\n",
    "test_encodings = tokenizer(list(X_test), truncation=True, padding='max_length', max_length=30, return_tensors=\"tf\")\n",
    "\n",
    "predictions = model.predict(dict(test_encodings))\n",
    "\n",
    "threshold = 0.5\n",
    "preds = (predictions>threshold).astype(int)\n",
    "\n",
    "print(classification_report(preds,y_test, target_names = ['Fake','Real']))"
   ]
  },
  {
   "cell_type": "code",
   "execution_count": 12,
   "metadata": {},
   "outputs": [
    {
     "name": "stderr",
     "output_type": "stream",
     "text": [
      "WARNING:absl:Found untraced functions such as serving, wte_layer_call_fn, wte_layer_call_and_return_conditional_losses, wpe_layer_call_fn, wpe_layer_call_and_return_conditional_losses while saving (showing 5 of 297). These functions will not be directly callable after loading.\n"
     ]
    },
    {
     "name": "stdout",
     "output_type": "stream",
     "text": [
      "INFO:tensorflow:Assets written to: ./my_model_gpt2\\assets\n"
     ]
    },
    {
     "name": "stderr",
     "output_type": "stream",
     "text": [
      "INFO:tensorflow:Assets written to: ./my_model_gpt2\\assets\n"
     ]
    }
   ],
   "source": [
    "model.save('./my_model_gpt2')"
   ]
  }
 ],
 "metadata": {
  "kernelspec": {
   "display_name": "Python 3",
   "language": "python",
   "name": "python3"
  },
  "language_info": {
   "codemirror_mode": {
    "name": "ipython",
    "version": 3
   },
   "file_extension": ".py",
   "mimetype": "text/x-python",
   "name": "python",
   "nbconvert_exporter": "python",
   "pygments_lexer": "ipython3",
   "version": "3.9.21"
  }
 },
 "nbformat": 4,
 "nbformat_minor": 2
}
