{
 "cells": [
  {
   "cell_type": "code",
   "execution_count": 1,
   "id": "2f08749b",
   "metadata": {},
   "outputs": [
    {
     "name": "stderr",
     "output_type": "stream",
     "text": [
      "c:\\Users\\makri\\.conda\\envs\\tf\\lib\\site-packages\\tqdm\\auto.py:21: TqdmWarning: IProgress not found. Please update jupyter and ipywidgets. See https://ipywidgets.readthedocs.io/en/stable/user_install.html\n",
      "  from .autonotebook import tqdm as notebook_tqdm\n",
      "c:\\Users\\makri\\.conda\\envs\\tf\\lib\\site-packages\\transformers\\utils\\generic.py:441: FutureWarning: `torch.utils._pytree._register_pytree_node` is deprecated. Please use `torch.utils._pytree.register_pytree_node` instead.\n",
      "  _torch_pytree._register_pytree_node(\n",
      "c:\\Users\\makri\\.conda\\envs\\tf\\lib\\site-packages\\tensorflow_addons\\utils\\tfa_eol_msg.py:23: UserWarning: \n",
      "\n",
      "TensorFlow Addons (TFA) has ended development and introduction of new features.\n",
      "TFA has entered a minimal maintenance and release mode until a planned end of life in May 2024.\n",
      "Please modify downstream libraries to take dependencies from other repositories in our TensorFlow community (e.g. Keras, Keras-CV, and Keras-NLP). \n",
      "\n",
      "For more information see: https://github.com/tensorflow/addons/issues/2807 \n",
      "\n",
      "  warnings.warn(\n",
      "c:\\Users\\makri\\.conda\\envs\\tf\\lib\\site-packages\\tensorflow_addons\\utils\\ensure_tf_install.py:53: UserWarning: Tensorflow Addons supports using Python ops for all Tensorflow versions above or equal to 2.12.0 and strictly below 2.15.0 (nightly versions are not supported). \n",
      " The versions of TensorFlow you are currently using is 2.10.1 and is not supported. \n",
      "Some things might work, some things might not.\n",
      "If you were to encounter a bug, do not file an issue.\n",
      "If you want to make sure you're using a tested and supported configuration, either change the TensorFlow version or the TensorFlow Addons's version. \n",
      "You can find the compatibility matrix in TensorFlow Addon's readme:\n",
      "https://github.com/tensorflow/addons\n",
      "  warnings.warn(\n"
     ]
    }
   ],
   "source": [
    "import os\n",
    "import pandas as pd\n",
    "import tensorflow as tf\n",
    "import tensorflow_hub as hub\n",
    "import tensorflow_text as text\n",
    "import numpy as np\n",
    "import matplotlib.pyplot as plt\n",
    "from tensorflow.keras import mixed_precision\n",
    "from sklearn.metrics import confusion_matrix, classification_report \n",
    "from transformers import BertTokenizer\n",
    "import tensorflow_addons as tfa\n",
    "\n",
    "os.chdir('C:/Users/makri/OneDrive/Documents/GitHub/Deep_Learning_Final_Project')\n",
    "\n",
    "data_train = pd.read_csv('all_train(1).tsv', sep='\\t')\n",
    "data_test = pd.read_csv('all_test_public.tsv', sep='\\t')\n",
    "data_validate = pd.read_csv('all_validate.tsv', sep='\\t')"
   ]
  },
  {
   "cell_type": "code",
   "execution_count": 2,
   "id": "9257fc48",
   "metadata": {},
   "outputs": [
    {
     "name": "stdout",
     "output_type": "stream",
     "text": [
      "Memory growth enabled for PhysicalDevice(name='/physical_device:GPU:0', device_type='GPU')\n"
     ]
    }
   ],
   "source": [
    "gpus = tf.config.experimental.list_physical_devices('GPU')\n",
    "\n",
    "if gpus:\n",
    "    try:\n",
    "        # Enable memory growth for the first (and only) GPU\n",
    "        tf.config.experimental.set_memory_growth(gpus[0], True)\n",
    "        print(f\"Memory growth enabled for {gpus[0]}\")\n",
    "    except RuntimeError as e:\n",
    "        print(e)  # This happens if GPUs are initialized before setting memory growth\n",
    "else:\n",
    "    print(\"No GPU found. Running on CPU.\")"
   ]
  },
  {
   "cell_type": "code",
   "execution_count": 3,
   "id": "e8a7d6c0",
   "metadata": {},
   "outputs": [],
   "source": [
    "BATCH_SIZE = 16\n",
    "SEED = 42\n",
    "# Training data\n",
    "X_train = data_train['clean_title'].values  \n",
    "y_train = data_train['2_way_label'].values \n",
    "\n",
    "# Validation data\n",
    "X_val = data_validate['clean_title'].values\n",
    "y_val = data_validate['2_way_label'].values\n"
   ]
  },
  {
   "cell_type": "code",
   "execution_count": 4,
   "id": "6b8a054c",
   "metadata": {},
   "outputs": [],
   "source": [
    "X_train = [str(x) for x in X_train]\n",
    "X_val = [str(x) for x in X_val]"
   ]
  },
  {
   "cell_type": "code",
   "execution_count": null,
   "id": "323ce5e1",
   "metadata": {},
   "outputs": [
    {
     "name": "stderr",
     "output_type": "stream",
     "text": [
      "c:\\Users\\makri\\.conda\\envs\\tf\\lib\\site-packages\\huggingface_hub\\file_download.py:797: FutureWarning: `resume_download` is deprecated and will be removed in version 1.0.0. Downloads always resume when possible. If you want to force a new download, use `force_download=True`.\n",
      "  warnings.warn(\n"
     ]
    }
   ],
   "source": [
    "tokenizer = BertTokenizer.from_pretrained('bert-base-uncased')\n",
    "\n",
    "train_encodings = tokenizer(X_train, truncation=True, padding='max_length', max_length=30, return_tensors=\"tf\")\n",
    "\n",
    "val_encodings = tokenizer(\n",
    "    X_val,\n",
    "    truncation=True,\n",
    "    padding='max_length',\n",
    "    max_length=30,\n",
    "    return_tensors=\"tf\"\n",
    ")"
   ]
  },
  {
   "cell_type": "code",
   "execution_count": 6,
   "id": "466a9cb7",
   "metadata": {},
   "outputs": [],
   "source": [
    "# Prepare dataset\n",
    "inputs = {\n",
    "    'input_word_ids': train_encodings['input_ids'],\n",
    "    'input_mask': train_encodings['attention_mask'],\n",
    "    'input_type_ids': train_encodings['token_type_ids']\n",
    "}\n",
    "labels = tf.cast(y_train, tf.float32)\n",
    "\n",
    "\n",
    "val_inputs = {\n",
    "    'input_word_ids': val_encodings['input_ids'],\n",
    "    'input_mask': val_encodings['attention_mask'],\n",
    "    'input_type_ids': val_encodings['token_type_ids']\n",
    "}\n",
    "val_labels = tf.cast(y_val, tf.float32)\n",
    "\n",
    "\n",
    "# Now build dataset properly\n",
    "train_ds = tf.data.Dataset.from_tensor_slices((inputs,  labels)).shuffle(buffer_size=len(X_train),seed=SEED).batch(BATCH_SIZE).cache().prefetch(tf.data.AUTOTUNE)\n",
    "val_ds = tf.data.Dataset.from_tensor_slices((val_inputs, val_labels))\\\n",
    "         .batch(BATCH_SIZE)\\\n",
    "         .prefetch(tf.data.AUTOTUNE)\n"
   ]
  },
  {
   "cell_type": "code",
   "execution_count": 7,
   "id": "1bef8fb2",
   "metadata": {},
   "outputs": [
    {
     "name": "stdout",
     "output_type": "stream",
     "text": [
      "INFO:tensorflow:Mixed precision compatibility check (mixed_float16): OK\n",
      "Your GPU will likely run quickly with dtype policy mixed_float16 as it has compute capability of at least 7.0. Your GPU: NVIDIA GeForce RTX 4050 Laptop GPU, compute capability 8.9\n",
      "Model: \"model\"\n",
      "__________________________________________________________________________________________________\n",
      " Layer (type)                   Output Shape         Param #     Connected to                     \n",
      "==================================================================================================\n",
      " input_mask (InputLayer)        [(None, 30)]         0           []                               \n",
      "                                                                                                  \n",
      " input_type_ids (InputLayer)    [(None, 30)]         0           []                               \n",
      "                                                                                                  \n",
      " input_word_ids (InputLayer)    [(None, 30)]         0           []                               \n",
      "                                                                                                  \n",
      " keras_layer (KerasLayer)       {'encoder_outputs':  109482241   ['input_mask[0][0]',             \n",
      "                                 [(None, 30, 768),                'input_type_ids[0][0]',         \n",
      "                                 (None, 30, 768),                 'input_word_ids[0][0]']         \n",
      "                                 (None, 30, 768),                                                 \n",
      "                                 (None, 30, 768),                                                 \n",
      "                                 (None, 30, 768),                                                 \n",
      "                                 (None, 30, 768),                                                 \n",
      "                                 (None, 30, 768),                                                 \n",
      "                                 (None, 30, 768),                                                 \n",
      "                                 (None, 30, 768),                                                 \n",
      "                                 (None, 30, 768),                                                 \n",
      "                                 (None, 30, 768),                                                 \n",
      "                                 (None, 30, 768)],                                                \n",
      "                                 'default': (None,                                                \n",
      "                                768),                                                             \n",
      "                                 'sequence_output':                                               \n",
      "                                 (None, 30, 768),                                                 \n",
      "                                 'pooled_output': (                                               \n",
      "                                None, 768)}                                                       \n",
      "                                                                                                  \n",
      " dropout (Dropout)              (None, 768)          0           ['keras_layer[0][13]']           \n",
      "                                                                                                  \n",
      " dense (Dense)                  (None, 1)            769         ['dropout[0][0]']                \n",
      "                                                                                                  \n",
      "==================================================================================================\n",
      "Total params: 109,483,010\n",
      "Trainable params: 109,483,009\n",
      "Non-trainable params: 1\n",
      "__________________________________________________________________________________________________\n"
     ]
    }
   ],
   "source": [
    "# Build Model\n",
    "mixed_precision.set_global_policy('mixed_float16')\n",
    "\n",
    "# BERT encoder \n",
    "bert_model = hub.KerasLayer(\n",
    "    \"https://tfhub.dev/tensorflow/bert_en_uncased_L-12_H-768_A-12/3\",\n",
    "    trainable=True\n",
    ")\n",
    "\n",
    "\n",
    "# Inputs\n",
    "input_ids = tf.keras.Input(shape=(30,), dtype=tf.int32, name=\"input_word_ids\")\n",
    "input_mask = tf.keras.Input(shape=(30,), dtype=tf.int32, name=\"input_mask\")\n",
    "type_ids = tf.keras.Input(shape=(30,), dtype=tf.int32, name=\"input_type_ids\")\n",
    "\n",
    "bert_inputs = {\n",
    "    'input_word_ids': input_ids,\n",
    "    'input_mask': input_mask,\n",
    "    'input_type_ids': type_ids\n",
    "}\n",
    "\n",
    "bert_outputs = bert_model(bert_inputs)\n",
    "cls_token = bert_outputs['pooled_output']\n",
    "\n",
    "x = tf.keras.layers.Dropout(0.1)(cls_token)\n",
    "x = tf.keras.layers.Dense(1, activation='sigmoid', dtype='float32')(x)\n",
    "\n",
    "model = tf.keras.Model(inputs=[input_ids, input_mask, type_ids], outputs=x)\n",
    "model.summary()\n"
   ]
  },
  {
   "cell_type": "code",
   "execution_count": null,
   "id": "6bc1fec8",
   "metadata": {},
   "outputs": [],
   "source": [
    "model.compile(loss = tf.keras.losses.BinaryCrossentropy(), optimizer = tf.keras.optimizers.Adam(2e-5), metrics = ['accuracy'])"
   ]
  },
  {
   "cell_type": "code",
   "execution_count": null,
   "id": "65139686",
   "metadata": {},
   "outputs": [
    {
     "name": "stdout",
     "output_type": "stream",
     "text": [
      "Epoch 1/2\n"
     ]
    },
    {
     "name": "stderr",
     "output_type": "stream",
     "text": [
      "c:\\Users\\makri\\.conda\\envs\\tf\\lib\\site-packages\\tensorflow\\python\\framework\\indexed_slices.py:444: UserWarning: Converting sparse IndexedSlices(IndexedSlices(indices=Tensor(\"Adam/gradients/StatefulPartitionedCall:1\", shape=(None,), dtype=int32), values=Tensor(\"mul_2:0\", dtype=float32), dense_shape=Tensor(\"Adam/gradients/StatefulPartitionedCall:2\", shape=(None,), dtype=int32))) to a dense Tensor of unknown shape. This may consume a large amount of memory.\n",
      "  warnings.warn(\n"
     ]
    },
    {
     "name": "stdout",
     "output_type": "stream",
     "text": [
      "54889/54889 [==============================] - 6642s 121ms/step - loss: 0.3015 - accuracy: 0.8733 - val_loss: 0.2780 - val_accuracy: 0.8854\n",
      "Epoch 2/2\n",
      "54889/54889 [==============================] - 6673s 122ms/step - loss: 0.2345 - accuracy: 0.9063 - val_loss: 0.2797 - val_accuracy: 0.8861\n"
     ]
    }
   ],
   "source": [
    "history = model.fit(train_ds, validation_data=val_ds, epochs=1)\n"
   ]
  },
  {
   "cell_type": "code",
   "execution_count": 10,
   "id": "a10bbfcd",
   "metadata": {},
   "outputs": [
    {
     "name": "stdout",
     "output_type": "stream",
     "text": [
      "2889/2889 [==============================] - 122s 42ms/step\n",
      "              precision    recall  f1-score   support\n",
      "\n",
      "        Fake       0.89      0.90      0.89     49634\n",
      "        Real       0.88      0.87      0.88     42810\n",
      "\n",
      "    accuracy                           0.89     92444\n",
      "   macro avg       0.89      0.89      0.89     92444\n",
      "weighted avg       0.89      0.89      0.89     92444\n",
      "\n"
     ]
    }
   ],
   "source": [
    "\n",
    "X_test = data_test['clean_title'].values\n",
    "y_test = data_test['2_way_label'].values\n",
    "\n",
    "\n",
    "X_test = [str(x) for x in X_test]\n",
    "\n",
    "test_encodings = tokenizer(X_test, truncation=True, padding='max_length', max_length=30, return_tensors=\"tf\")\n",
    "\n",
    "# Prepare dataset\n",
    "inputs_test = {\n",
    "    'input_word_ids': test_encodings['input_ids'],\n",
    "    'input_mask': test_encodings['attention_mask'],\n",
    "    'input_type_ids': test_encodings['token_type_ids']\n",
    "}\n",
    "\n",
    "# Predictions\n",
    "predictions = model.predict(dict(inputs_test))\n",
    "\n",
    "threshold = 0.5\n",
    "preds = (predictions>threshold).astype(int)\n",
    "\n",
    "print(classification_report(preds,y_test, target_names = ['Fake','Real']))"
   ]
  },
  {
   "cell_type": "code",
   "execution_count": 25,
   "id": "06286287",
   "metadata": {},
   "outputs": [
    {
     "name": "stderr",
     "output_type": "stream",
     "text": [
      "WARNING:absl:Found untraced functions such as restored_function_body, restored_function_body, restored_function_body, restored_function_body, restored_function_body while saving (showing 5 of 364). These functions will not be directly callable after loading.\n"
     ]
    },
    {
     "name": "stdout",
     "output_type": "stream",
     "text": [
      "INFO:tensorflow:Assets written to: ./my_model_bert_base\\assets\n"
     ]
    },
    {
     "name": "stderr",
     "output_type": "stream",
     "text": [
      "INFO:tensorflow:Assets written to: ./my_model_bert_base\\assets\n"
     ]
    }
   ],
   "source": [
    "model.save('./my_model_bert_base')"
   ]
  },
  {
   "cell_type": "markdown",
   "id": "09060fde",
   "metadata": {},
   "source": [
    "## Reloaded Model ##"
   ]
  },
  {
   "cell_type": "code",
   "execution_count": 6,
   "id": "8c1ba466",
   "metadata": {},
   "outputs": [
    {
     "name": "stdout",
     "output_type": "stream",
     "text": [
      "INFO:tensorflow:Mixed precision compatibility check (mixed_float16): OK\n",
      "Your GPU will likely run quickly with dtype policy mixed_float16 as it has compute capability of at least 7.0. Your GPU: NVIDIA GeForce RTX 4050 Laptop GPU, compute capability 8.9\n"
     ]
    }
   ],
   "source": [
    "reloaded_model = tf.keras.models.load_model('./my_model_bert_base')\n"
   ]
  },
  {
   "cell_type": "code",
   "execution_count": 11,
   "id": "adab500f",
   "metadata": {},
   "outputs": [],
   "source": [
    "news_examples = [\n",
    "\"Election Software Firm Admits Votes Were Reassigned 'for Testing Purposes'\",\n",
    "\n",
    "\"Politician Caught Using Deepfake Avatar in Parliament for Months\",\n",
    "\n",
    "\"Secret Island Meeting: World Leaders Plan Global Currency Reset\",\n",
    "\n",
    "\"Ex-Bodyguard Claims President Is a Hologram Operated by Military AI\",\n",
    "\n",
    "\"Anonymous Hackers Leak Evidence of Mind-Control Satellite Funded by Government\",\n",
    "\n",
    "\"Opposition Party Linked to Ancient Secret Society in Newly Unearthed Files\",\n",
    "\n",
    "\"Entire Town Admits to Being Paid Actors in National Election\",\n",
    "\n",
    "\"CIA Insider Warns of 'Fake Crisis' to Postpone Next Election\",\n",
    "\n",
    "\"Presidential Candidate Allegedly Communicates with Voters via Brainwaves\",\n",
    "\n",
    "\"Voter IDs to Be Replaced with DNA Tests in New Controversial Bill\",\n",
    "\"Scientists Discover Pineapple Juice Can Reverse Alzheimer’s in 7 Days\",\n",
    "\n",
    "\"New Superfood From Siberia Claims to Regrow Lost Organs\",\n",
    "\n",
    "\"Vaccine Turns Out to Be Tracking Device—Bluetooth Scanners Confirm\",\n",
    "\n",
    "\"Doctors Say Walking Barefoot on Grass Aligns Your DNA with the Universe\",\n",
    "\n",
    "\"Billionaire Admits Fluoride in Water Is Used to Control Population\",\n",
    "\n",
    "\"Hospital Replaces Surgeons with AI Robot That ‘Guesses’ the Procedure\",\n",
    "\n",
    "\"Government Classifies New 'Emotion Virus' That Spreads Through Screens\",\n",
    "\n",
    "\"Unvaccinated Communities Found to Have Higher IQs, Says Dubious Study\",\n",
    "\n",
    "\"Pharmaceutical Companies Suppress 3,000-Year-Old Herbal Cure for Diabetes\",\n",
    "\n",
    "\"Eating Only Blue Foods for a Week Reported to ‘Cleanse the Mind’\",\n",
    "\"Time Travel Accidentally Achieved in University Physics Lab\",\n",
    "\n",
    "\"Tesla Coil Emits Signal That Attracts UFOs, Claims Amateur Scientist\",\n",
    "\n",
    "\"Dinosaurs May Still Exist in Underground Caves, New Satellite Images Suggest\",\n",
    "\n",
    "\"Scientists Discover Earth Is Gently Expanding—‘Global Swelling’ Confirmed\",\n",
    "\n",
    "\"Human Brain Can Connect to WiFi—Experiment 'Silenced' by Telecom Giants\",\n",
    "\n",
    "\"Refrigerator Magnets Found to Disturb Earth’s Magnetic Field in Rural Areas\",\n",
    "\n",
    "\"New Black Hole Found Near Earth—Only Detectable by Dogs\",\n",
    "\n",
    "\"AI Predicts End of World in 2031 Using Ancient Mayan Algorithm\",\n",
    "\n",
    "\"Higgs Boson Particle Causes Déjà Vu, Say Quantum Theorists\",\n",
    "\n",
    "\"Researchers Accidentally Create Miniature Sun in Basement Lab\"\n",
    "]\n",
    "\n",
    "news_examples_real =  [\n",
    "    \"UN Passes New Climate Accord Aimed at Curbing Global Emissions by 2040\",\n",
    "    \"FDA Approves First-Ever Oral Treatment for Rare Autoimmune Disorder\",\n",
    "    \"Senate Votes to Extend Federal Student Loan Relief Program\",\n",
    "    \"NASA Launches Mission to Study Jupiter's Icy Moons\",\n",
    "    \"New Research Links Regular Exercise to Improved Cognitive Function in Older Adults\",\n",
    "    \"Global Inflation Eases as Supply Chains Stabilize, Report Finds\",\n",
    "    \"Supreme Court to Hear Case on Digital Privacy and User Data Rights\",\n",
    "    \"Study Shows Mediterranean Diet Lowers Risk of Heart Disease\",\n",
    "    \"World Health Organization Declares End to Recent Ebola Outbreak\",\n",
    "    \"President Signs Executive Order to Expand Rural Internet Access\",\n",
    "    \"Scientists Develop Biodegradable Battery Using Seaweed Extract\",\n",
    "    \"City Council Approves Plan to Increase Affordable Housing Units\",\n",
    "    \"CDC Reports Decline in U.S. Smoking Rates, Highest Drop in a Decade\",\n",
    "    \"Tech Companies Pledge to Combat AI-Generated Misinformation\",\n",
    "    \"Archaeologists Discover Lost Ancient Settlement in Amazon Rainforest\",\n",
    "    \"Education Department Launches Initiative to Improve Digital Literacy in Schools\",\n",
    "    \"New York Implements Congestion Pricing to Reduce City Traffic\",\n",
    "    \"Researchers Achieve Breakthrough in Nuclear Fusion Stability\",\n",
    "    \"Bipartisan Bill Introduced to Modernize National Infrastructure\",\n",
    "    \"Major Hospitals Roll Out AI Tools to Improve Diagnostic Accuracy\",\n",
    "    \"New Marine Reserve Protects Critical Coral Reef Ecosystem\",\n",
    "    \"Federal Reserve Maintains Interest Rate Amid Economic Uncertainty\",\n",
    "    \"Volunteers Restore Thousands of Acres of Forest in Conservation Push\",\n",
    "    \"Scientists Map Brain Circuits Tied to Emotional Processing\",\n",
    "    \"U.S. Unemployment Hits Lowest Level Since 2019, Labor Dept. Says\",\n",
    "    \"Study Confirms Effectiveness of Early Childhood Education Programs\",\n",
    "    \"Health Officials Urge Vaccinations Ahead of Predicted Flu Surge\",\n",
    "    \"Electric Vehicle Sales Reach New Record in Global Market\",\n",
    "    \"Court Rules in Favor of Free Speech Protections in Landmark Case\",\n",
    "    \"Major Breakthrough in Parkinson’s Disease Treatment Announced\"\n",
    "]\n",
    "\n",
    "\n",
    "real_news_titles = [\n",
    "    \"Top Turkish Refiner Tupras Resumes Buying Russian Urals Crude\",\n",
    "    \"Emmanuel Macron Meets US Envoys for Talks on Ukraine\",\n",
    "    \"Global Stock Markets Plunge Amid US Tariff Announcements\",\n",
    "    \"'Hands Off' Protests Erupt Across US Against Trump Administration Policies\",\n",
    "    \"Green Day's Coachella Performance Sparks Palm Tree Fire\",\n",
    "    \"Sarah Ferguson, Bill Nye, and Laverne Cox Join Global Citizen NOW Summit Lineup\",\n",
    "    \"Birmingham Bin Strike Draws International Attention Amid Waste Accumulation\",\n",
    "    \"Labour MP Dan Norris Suspended Following Arrest on Serious Charges\",\n",
    "    \"Former Scottish Conservative MSP Jamie Greene Defects to Liberal Democrats\",\n",
    "    \"Parliament Recalled to Debate Emergency Law to Save British Steel\",\n",
    "    \"King Charles Addresses Italian Parliament and Meets Pope Francis\",\n",
    "    \"MPs Yuan Yang and Abtisam Mohamed Denied Entry to Israel\",\n",
    "    \"Cabinet Office to Cut 2,100 Civil Servant Roles in Government Reform\",\n",
    "    \"Former Minister Penny Mordaunt Joins British American Tobacco's Advisory Board\",\n",
    "    \"MP Lucy Powell's Twitter Account Hacked to Promote Cryptocurrency Scam\",\n",
    "    \"Welsh Government Confirms Senedd Vote on Assisted Dying Legislation\",\n",
    "    \"First Live Footage of Colossal Squid Captured in Deep Ocean\",\n",
    "    \"Strongest Evidence Yet of Life Found on Exoplanet K2-18b\",\n",
    "    \"SpaceX's Fram2 Mission Achieves First Crewed Polar Orbit Flight\",\n",
    "    \"Colossal Biosciences Unveils Genetically Modified Wolves Resembling Dire Wolves\",\n",
    "    \"President Trump Announces Sweeping Tariffs on Global Imports\",\n",
    "    \"Hungary Withdraws from International Criminal Court Amid Netanyahu Visit\",\n",
    "    \"South Korea's Constitutional Court Upholds Impeachment of President Yoon Suk Yeol\",\n",
    "    \"Ecuador's President Daniel Noboa Re-elected in General Election\",\n",
    "    \"Gabonese President Brice Oligui Nguema Wins Full Term Post-Coup\",\n",
    "    \"Andrija Jelavic Among Top International Recruits for Kentucky Wildcats Basketball\",\n",
    "    \"Birmingham's Waste Crisis Highlights Public Service Challenges in UK\",\n",
    "    \"Global Citizen NOW Summit to Address Poverty and Sustainability with Star-Studded Lineup\",\n",
    "    \"Coachella 2025 Features High-Profile Performances Amid Safety Concerns\",\n",
    "    \"'Hands Off' Demonstrations Signal Widespread Opposition to US Administration Policies\"\n",
    "]\n",
    "\n",
    "politifact = [\"Brad Schimel said that he wanted to be part of Donald Trump's support network.\",\n",
    "              \"Less than half of Americans have $1,000 in savings.\",\n",
    "              \"Cody Balmer, the person charged with setting fire to Pennsylvania governor’s residence, posted a photo that said “F--- Trump.\",\n",
    "              \"U.S. Rep. Jasmine Crockett says “she ‘simply forgot' to inform Social Security that her grandmother died in 2012 … She’s been collecting $2,600 a month for 13 years.”\",\n",
    "              \"Photos and videos show Washington, D.C., protests against White House adviser Elon Musk are “staged & paid — bussed in, scripted, clocked out.”\",\n",
    "              \"In 2024, “China made $1 trillion off trade with the United States.”\",\n",
    "              \"Under the previous administration … the cost of a median-price home in America more than doubled, and that was just in four years. \"]\n",
    "\n",
    "examples_encodings = tokenizer(politifact, truncation=True, padding='max_length',max_length=30, return_tensors=\"tf\")\n",
    "examples_encodings_real = tokenizer(real_news_titles, truncation=True, padding='max_length',max_length=30, return_tensors=\"tf\")\n"
   ]
  },
  {
   "cell_type": "code",
   "execution_count": 12,
   "id": "8b1b273e",
   "metadata": {},
   "outputs": [],
   "source": [
    "inputs = {\n",
    "    'input_word_ids': examples_encodings['input_ids'],\n",
    "    'input_mask': examples_encodings['attention_mask'],\n",
    "    'input_type_ids': examples_encodings['token_type_ids']\n",
    "}\n",
    "inputs_real = {\n",
    "    'input_word_ids': examples_encodings_real['input_ids'],\n",
    "    'input_mask': examples_encodings_real['attention_mask'],\n",
    "    'input_type_ids': examples_encodings_real['token_type_ids']\n",
    "}\n",
    "\n",
    "\n"
   ]
  },
  {
   "cell_type": "code",
   "execution_count": 13,
   "id": "50f86ce9",
   "metadata": {},
   "outputs": [],
   "source": [
    "\n",
    "results = reloaded_model(inputs)"
   ]
  },
  {
   "cell_type": "code",
   "execution_count": 14,
   "id": "883df08c",
   "metadata": {},
   "outputs": [
    {
     "data": {
      "text/plain": [
       "<tf.Tensor: shape=(7, 1), dtype=float32, numpy=\n",
       "array([[0.9269838 ],\n",
       "       [0.971058  ],\n",
       "       [0.9593943 ],\n",
       "       [0.9716893 ],\n",
       "       [0.72715485],\n",
       "       [0.78166467],\n",
       "       [0.84037626]], dtype=float32)>"
      ]
     },
     "execution_count": 14,
     "metadata": {},
     "output_type": "execute_result"
    }
   ],
   "source": [
    "results"
   ]
  }
 ],
 "metadata": {
  "kernelspec": {
   "display_name": "Python 3",
   "language": "python",
   "name": "python3"
  },
  "language_info": {
   "codemirror_mode": {
    "name": "ipython",
    "version": 3
   },
   "file_extension": ".py",
   "mimetype": "text/x-python",
   "name": "python",
   "nbconvert_exporter": "python",
   "pygments_lexer": "ipython3",
   "version": "3.9.21"
  }
 },
 "nbformat": 4,
 "nbformat_minor": 5
}
